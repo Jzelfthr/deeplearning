{
 "cells": [
  {
   "cell_type": "markdown",
   "id": "b481070b-6cb8-471c-bf74-bb63d1dfddb2",
   "metadata": {},
   "source": [
    "Laboratory Task 5"
   ]
  },
  {
   "cell_type": "code",
   "execution_count": 16,
   "id": "0beb87e6-51f1-4143-9b51-09f43cf591dc",
   "metadata": {},
   "outputs": [],
   "source": [
    "#1. Perform Standard Imports\n",
    "import torch\n",
    "import numpy as np\n",
    "import sys\n",
    "import random"
   ]
  },
  {
   "cell_type": "code",
   "execution_count": 17,
   "id": "950bfb24-8248-4882-862a-30dd2f2cbdbb",
   "metadata": {},
   "outputs": [],
   "source": [
    "#2. Create a function called set_seed() that accepts seed: int as a parameter, this function must return nothing but just set the seed to a certain value\n",
    "def set_seed(seed: int):\n",
    "    random.seed(seed)\n",
    "    np.random.seed(seed)\n",
    "    torch.manual_seed(seed)"
   ]
  },
  {
   "cell_type": "code",
   "execution_count": 18,
   "id": "3314308a-cae3-4022-9ea7-221ae4581c3d",
   "metadata": {},
   "outputs": [
    {
     "name": "stdout",
     "output_type": "stream",
     "text": [
      "NumPy array arr: [3 4 2 4 4 1]\n"
     ]
    }
   ],
   "source": [
    "#3. Create a NumPy array called \"arr\" that contains 6 random integers between 0 (inclusive) and 5 (exclusive), call the set_seed() function and use 42 as the seed parameter.\n",
    "set_seed(42)\n",
    "arr = np.random.randint(0, 5, size=6)\n",
    "print(\"NumPy array arr:\", arr)"
   ]
  },
  {
   "cell_type": "code",
   "execution_count": 19,
   "id": "e47abab0-5a1b-4324-b829-3c70179ca356",
   "metadata": {},
   "outputs": [
    {
     "name": "stdout",
     "output_type": "stream",
     "text": [
      "\n",
      "Tensor x: tensor([3, 4, 2, 4, 4, 1], dtype=torch.int32)\n"
     ]
    }
   ],
   "source": [
    "# 4. Create a tensor \"x\" from the array above\n",
    "x = torch.from_numpy(arr)\n",
    "print(\"\\nTensor x:\", x)"
   ]
  },
  {
   "cell_type": "code",
   "execution_count": 20,
   "id": "a63cbfb1-2b56-4709-8be9-675340d1ef0c",
   "metadata": {},
   "outputs": [
    {
     "name": "stdout",
     "output_type": "stream",
     "text": [
      "\n",
      "Tensor x with dtype int64: tensor([3, 4, 2, 4, 4, 1]) torch.int64\n"
     ]
    }
   ],
   "source": [
    "#5. Change the dtype of x from int32 to int64\n",
    "x = x.to(torch.int64)\n",
    "print(\"\\nTensor x with dtype int64:\", x, x.dtype)"
   ]
  },
  {
   "cell_type": "code",
   "execution_count": 21,
   "id": "35dff935-7491-4fee-a267-d1bbcbc44f24",
   "metadata": {},
   "outputs": [
    {
     "name": "stdout",
     "output_type": "stream",
     "text": [
      "\n",
      "Right-hand column:\n",
      " tensor([[3, 4],\n",
      "        [2, 4],\n",
      "        [4, 1]])\n"
     ]
    }
   ],
   "source": [
    "#6. Reshape x into a 3x2 tensor,There are several ways to do this\n",
    "x = x.view(3, 2)\n",
    "print (\"\\nRight-hand column:\\n\", x)"
   ]
  },
  {
   "cell_type": "code",
   "execution_count": 22,
   "id": "e58b8e3b-0a0e-4f80-b19e-499fda69fd20",
   "metadata": {},
   "outputs": [
    {
     "name": "stdout",
     "output_type": "stream",
     "text": [
      "\n",
      "Right-hand column:\n",
      " tensor([4, 4, 1])\n"
     ]
    }
   ],
   "source": [
    "#7. Return the right-hand column of tensor x\n",
    "right_col = x[:,1]\n",
    "print(\"\\nRight-hand column:\\n\", right_col)"
   ]
  },
  {
   "cell_type": "code",
   "execution_count": 23,
   "id": "5b83d22d-8d02-4ab1-aa49-b48e0b553ff9",
   "metadata": {},
   "outputs": [
    {
     "name": "stdout",
     "output_type": "stream",
     "text": [
      "\n",
      "Squared values of x:\n",
      " tensor([[ 9, 16],\n",
      "        [ 4, 16],\n",
      "        [16,  1]])\n"
     ]
    }
   ],
   "source": [
    "#8. Without changing x, return a tensor of square values of x, There are several ways to do this.\n",
    "x_squared = x **2\n",
    "print(\"\\nSquared values of x:\\n\", x_squared)"
   ]
  },
  {
   "cell_type": "code",
   "execution_count": 24,
   "id": "73d1e979-6055-48c5-b718-9ca3416cf828",
   "metadata": {},
   "outputs": [
    {
     "name": "stdout",
     "output_type": "stream",
     "text": [
      "\n",
      "Tensor y (2x3):\n",
      " tensor([[2, 2, 1],\n",
      "        [4, 1, 0]])\n"
     ]
    }
   ],
   "source": [
    "# 9. Create a tensor y with the same number of elements as x, that can be matrix-multiplied with x, Use PyTorch directly (not NumPy) to create a tensor of random integers between 0 (inclusive) and 5 (exclusive). Use 42 as seed. Think about what shape it should have to permit matrix multiplication.\n",
    "set_seed(42)\n",
    "y = torch.randint(0,5,(2,3), dtype=torch.int64)\n",
    "print(\"\\nTensor y (2x3):\\n\", y)"
   ]
  },
  {
   "cell_type": "code",
   "execution_count": 25,
   "id": "5be866e6-81b9-477d-bb61-81cd154344e4",
   "metadata": {},
   "outputs": [
    {
     "name": "stdout",
     "output_type": "stream",
     "text": [
      "\n",
      "Matrix product x @ y:\n",
      " tensor([[22, 10,  3],\n",
      "        [20,  8,  2],\n",
      "        [12,  9,  4]])\n"
     ]
    }
   ],
   "source": [
    "#10. Find the matrix product of x and y.\n",
    "matmul_result = torch.matmul(x,y)\n",
    "print(\"\\nMatrix product x @ y:\\n\", matmul_result)"
   ]
  }
 ],
 "metadata": {
  "kernelspec": {
   "display_name": "Python 3 (ipykernel)",
   "language": "python",
   "name": "python3"
  },
  "language_info": {
   "codemirror_mode": {
    "name": "ipython",
    "version": 3
   },
   "file_extension": ".py",
   "mimetype": "text/x-python",
   "name": "python",
   "nbconvert_exporter": "python",
   "pygments_lexer": "ipython3",
   "version": "3.9.0"
  }
 },
 "nbformat": 4,
 "nbformat_minor": 5
}
